{
 "cells": [
  {
   "cell_type": "code",
   "execution_count": 1,
   "id": "4bf3c0e1-81a4-4f5f-9587-fb532efbf684",
   "metadata": {},
   "outputs": [
    {
     "data": {
      "text/html": [
       "<div>\n",
       "<style scoped>\n",
       "    .dataframe tbody tr th:only-of-type {\n",
       "        vertical-align: middle;\n",
       "    }\n",
       "\n",
       "    .dataframe tbody tr th {\n",
       "        vertical-align: top;\n",
       "    }\n",
       "\n",
       "    .dataframe thead th {\n",
       "        text-align: right;\n",
       "    }\n",
       "</style>\n",
       "<table border=\"1\" class=\"dataframe\">\n",
       "  <thead>\n",
       "    <tr style=\"text-align: right;\">\n",
       "      <th></th>\n",
       "      <th>Pregnancies</th>\n",
       "      <th>Glucose</th>\n",
       "      <th>BloodPressure</th>\n",
       "      <th>SkinThickness</th>\n",
       "      <th>Insulin</th>\n",
       "      <th>BMI</th>\n",
       "      <th>DiabetesPedigreeFunction</th>\n",
       "      <th>Age</th>\n",
       "      <th>Outcome</th>\n",
       "    </tr>\n",
       "  </thead>\n",
       "  <tbody>\n",
       "    <tr>\n",
       "      <th>0</th>\n",
       "      <td>6</td>\n",
       "      <td>148</td>\n",
       "      <td>72</td>\n",
       "      <td>35</td>\n",
       "      <td>0</td>\n",
       "      <td>33.6</td>\n",
       "      <td>0.627</td>\n",
       "      <td>50</td>\n",
       "      <td>1</td>\n",
       "    </tr>\n",
       "    <tr>\n",
       "      <th>1</th>\n",
       "      <td>1</td>\n",
       "      <td>85</td>\n",
       "      <td>66</td>\n",
       "      <td>29</td>\n",
       "      <td>0</td>\n",
       "      <td>26.6</td>\n",
       "      <td>0.351</td>\n",
       "      <td>31</td>\n",
       "      <td>0</td>\n",
       "    </tr>\n",
       "    <tr>\n",
       "      <th>2</th>\n",
       "      <td>8</td>\n",
       "      <td>183</td>\n",
       "      <td>64</td>\n",
       "      <td>0</td>\n",
       "      <td>0</td>\n",
       "      <td>23.3</td>\n",
       "      <td>0.672</td>\n",
       "      <td>32</td>\n",
       "      <td>1</td>\n",
       "    </tr>\n",
       "    <tr>\n",
       "      <th>3</th>\n",
       "      <td>1</td>\n",
       "      <td>89</td>\n",
       "      <td>66</td>\n",
       "      <td>23</td>\n",
       "      <td>94</td>\n",
       "      <td>28.1</td>\n",
       "      <td>0.167</td>\n",
       "      <td>21</td>\n",
       "      <td>0</td>\n",
       "    </tr>\n",
       "    <tr>\n",
       "      <th>4</th>\n",
       "      <td>0</td>\n",
       "      <td>137</td>\n",
       "      <td>40</td>\n",
       "      <td>35</td>\n",
       "      <td>168</td>\n",
       "      <td>43.1</td>\n",
       "      <td>2.288</td>\n",
       "      <td>33</td>\n",
       "      <td>1</td>\n",
       "    </tr>\n",
       "    <tr>\n",
       "      <th>...</th>\n",
       "      <td>...</td>\n",
       "      <td>...</td>\n",
       "      <td>...</td>\n",
       "      <td>...</td>\n",
       "      <td>...</td>\n",
       "      <td>...</td>\n",
       "      <td>...</td>\n",
       "      <td>...</td>\n",
       "      <td>...</td>\n",
       "    </tr>\n",
       "    <tr>\n",
       "      <th>763</th>\n",
       "      <td>10</td>\n",
       "      <td>101</td>\n",
       "      <td>76</td>\n",
       "      <td>48</td>\n",
       "      <td>180</td>\n",
       "      <td>32.9</td>\n",
       "      <td>0.171</td>\n",
       "      <td>63</td>\n",
       "      <td>0</td>\n",
       "    </tr>\n",
       "    <tr>\n",
       "      <th>764</th>\n",
       "      <td>2</td>\n",
       "      <td>122</td>\n",
       "      <td>70</td>\n",
       "      <td>27</td>\n",
       "      <td>0</td>\n",
       "      <td>36.8</td>\n",
       "      <td>0.340</td>\n",
       "      <td>27</td>\n",
       "      <td>0</td>\n",
       "    </tr>\n",
       "    <tr>\n",
       "      <th>765</th>\n",
       "      <td>5</td>\n",
       "      <td>121</td>\n",
       "      <td>72</td>\n",
       "      <td>23</td>\n",
       "      <td>112</td>\n",
       "      <td>26.2</td>\n",
       "      <td>0.245</td>\n",
       "      <td>30</td>\n",
       "      <td>0</td>\n",
       "    </tr>\n",
       "    <tr>\n",
       "      <th>766</th>\n",
       "      <td>1</td>\n",
       "      <td>126</td>\n",
       "      <td>60</td>\n",
       "      <td>0</td>\n",
       "      <td>0</td>\n",
       "      <td>30.1</td>\n",
       "      <td>0.349</td>\n",
       "      <td>47</td>\n",
       "      <td>1</td>\n",
       "    </tr>\n",
       "    <tr>\n",
       "      <th>767</th>\n",
       "      <td>1</td>\n",
       "      <td>93</td>\n",
       "      <td>70</td>\n",
       "      <td>31</td>\n",
       "      <td>0</td>\n",
       "      <td>30.4</td>\n",
       "      <td>0.315</td>\n",
       "      <td>23</td>\n",
       "      <td>0</td>\n",
       "    </tr>\n",
       "  </tbody>\n",
       "</table>\n",
       "<p>768 rows × 9 columns</p>\n",
       "</div>"
      ],
      "text/plain": [
       "     Pregnancies  Glucose  BloodPressure  SkinThickness  Insulin   BMI  \\\n",
       "0              6      148             72             35        0  33.6   \n",
       "1              1       85             66             29        0  26.6   \n",
       "2              8      183             64              0        0  23.3   \n",
       "3              1       89             66             23       94  28.1   \n",
       "4              0      137             40             35      168  43.1   \n",
       "..           ...      ...            ...            ...      ...   ...   \n",
       "763           10      101             76             48      180  32.9   \n",
       "764            2      122             70             27        0  36.8   \n",
       "765            5      121             72             23      112  26.2   \n",
       "766            1      126             60              0        0  30.1   \n",
       "767            1       93             70             31        0  30.4   \n",
       "\n",
       "     DiabetesPedigreeFunction  Age  Outcome  \n",
       "0                       0.627   50        1  \n",
       "1                       0.351   31        0  \n",
       "2                       0.672   32        1  \n",
       "3                       0.167   21        0  \n",
       "4                       2.288   33        1  \n",
       "..                        ...  ...      ...  \n",
       "763                     0.171   63        0  \n",
       "764                     0.340   27        0  \n",
       "765                     0.245   30        0  \n",
       "766                     0.349   47        1  \n",
       "767                     0.315   23        0  \n",
       "\n",
       "[768 rows x 9 columns]"
      ]
     },
     "execution_count": 1,
     "metadata": {},
     "output_type": "execute_result"
    }
   ],
   "source": [
    "import pandas as pd\n",
    "s=pd.read_csv(r\"C:\\Users\\hanal\\Downloads\\diabetes (1).csv\")\n",
    "s"
   ]
  },
  {
   "cell_type": "code",
   "execution_count": 2,
   "id": "ea02559b-8709-4878-8748-8b6975b3e2c4",
   "metadata": {},
   "outputs": [
    {
     "ename": "TypeError",
     "evalue": "DataFrame.pivot() got an unexpected keyword argument 'value_vars'",
     "output_type": "error",
     "traceback": [
      "\u001b[1;31m---------------------------------------------------------------------------\u001b[0m",
      "\u001b[1;31mTypeError\u001b[0m                                 Traceback (most recent call last)",
      "Cell \u001b[1;32mIn[2], line 1\u001b[0m\n\u001b[1;32m----> 1\u001b[0m df_p\u001b[38;5;241m=\u001b[39ms\u001b[38;5;241m.\u001b[39mpivot(index\u001b[38;5;241m=\u001b[39m\u001b[38;5;124m'\u001b[39m\u001b[38;5;124mGlucose\u001b[39m\u001b[38;5;124m'\u001b[39m,value_vars\u001b[38;5;241m=\u001b[39m[\u001b[38;5;124m'\u001b[39m\u001b[38;5;124mOutcome\u001b[39m\u001b[38;5;124m'\u001b[39m])\n\u001b[0;32m      2\u001b[0m df_p\n",
      "\u001b[1;31mTypeError\u001b[0m: DataFrame.pivot() got an unexpected keyword argument 'value_vars'"
     ]
    }
   ],
   "source": [
    "df_p=s.pivot(index='Glucose',value_vars=['Outcome'])\n",
    "df_p"
   ]
  },
  {
   "cell_type": "code",
   "execution_count": null,
   "id": "76817543-ea4a-4725-91ac-42725e40f451",
   "metadata": {},
   "outputs": [],
   "source": [
    "dff=pd.read_csv(r\"C:\\Users\\hanal\\Downloads\\diabetes (1).csv\")\n",
    "dff.head()"
   ]
  },
  {
   "cell_type": "markdown",
   "id": "64d32ecc-c6df-4da6-9a52-a314bd84c16d",
   "metadata": {},
   "source": [
    "                                CROSS - VALIDATION (kfold)"
   ]
  },
  {
   "cell_type": "code",
   "execution_count": null,
   "id": "b7d782e9-1d8a-46a4-bff1-61e051741601",
   "metadata": {},
   "outputs": [],
   "source": [
    "from sklearn.linear_model import LogisticRegression \n",
    "from sklearn.model_selection import KFold\n",
    "from sklearn.model_selection import cross_val_score \n",
    "x=dff.iloc[:,:-1]\n",
    "y=dff.iloc[:,-1]\n"
   ]
  },
  {
   "cell_type": "code",
   "execution_count": 3,
   "id": "60735a1d-298c-46da-aa75-3d8ed4f6f8fc",
   "metadata": {},
   "outputs": [
    {
     "ename": "NameError",
     "evalue": "name 'LogisticRegression' is not defined",
     "output_type": "error",
     "traceback": [
      "\u001b[1;31m---------------------------------------------------------------------------\u001b[0m",
      "\u001b[1;31mNameError\u001b[0m                                 Traceback (most recent call last)",
      "Cell \u001b[1;32mIn[3], line 1\u001b[0m\n\u001b[1;32m----> 1\u001b[0m lr\u001b[38;5;241m=\u001b[39mLogisticRegression()\n\u001b[0;32m      2\u001b[0m lr\u001b[38;5;241m.\u001b[39mfit(x,y)\n\u001b[0;32m      3\u001b[0m k_f\u001b[38;5;241m=\u001b[39mKFold(n_splits\u001b[38;5;241m=\u001b[39m\u001b[38;5;241m5\u001b[39m)\n",
      "\u001b[1;31mNameError\u001b[0m: name 'LogisticRegression' is not defined"
     ]
    }
   ],
   "source": [
    "lr=LogisticRegression()\n",
    "lr.fit(x,y)\n",
    "k_f=KFold(n_splits=5)\n",
    "sc=cross_val_score(lr,x,y,cv=k_f)\n",
    "print('scores for 5 folds : ',sc)\n",
    "print('mean of scores : ',sc.mean())"
   ]
  },
  {
   "cell_type": "markdown",
   "id": "033d0083-0b59-4510-8952-00cdade1c103",
   "metadata": {},
   "source": [
    "                                NORMALIZATION"
   ]
  },
  {
   "cell_type": "code",
   "execution_count": 4,
   "id": "36865700-5c86-4d85-97b4-a9fe92b14888",
   "metadata": {},
   "outputs": [
    {
     "data": {
      "text/html": [
       "<div>\n",
       "<style scoped>\n",
       "    .dataframe tbody tr th:only-of-type {\n",
       "        vertical-align: middle;\n",
       "    }\n",
       "\n",
       "    .dataframe tbody tr th {\n",
       "        vertical-align: top;\n",
       "    }\n",
       "\n",
       "    .dataframe thead th {\n",
       "        text-align: right;\n",
       "    }\n",
       "</style>\n",
       "<table border=\"1\" class=\"dataframe\">\n",
       "  <thead>\n",
       "    <tr style=\"text-align: right;\">\n",
       "      <th></th>\n",
       "      <th>Pregnancies</th>\n",
       "      <th>Glucose</th>\n",
       "      <th>BloodPressure</th>\n",
       "      <th>SkinThickness</th>\n",
       "      <th>Insulin</th>\n",
       "      <th>BMI</th>\n",
       "      <th>DiabetesPedigreeFunction</th>\n",
       "      <th>Age</th>\n",
       "      <th>Outcome</th>\n",
       "    </tr>\n",
       "  </thead>\n",
       "  <tbody>\n",
       "    <tr>\n",
       "      <th>0</th>\n",
       "      <td>6</td>\n",
       "      <td>148</td>\n",
       "      <td>72</td>\n",
       "      <td>35</td>\n",
       "      <td>0</td>\n",
       "      <td>33.6</td>\n",
       "      <td>0.627</td>\n",
       "      <td>50</td>\n",
       "      <td>1</td>\n",
       "    </tr>\n",
       "    <tr>\n",
       "      <th>1</th>\n",
       "      <td>1</td>\n",
       "      <td>85</td>\n",
       "      <td>66</td>\n",
       "      <td>29</td>\n",
       "      <td>0</td>\n",
       "      <td>26.6</td>\n",
       "      <td>0.351</td>\n",
       "      <td>31</td>\n",
       "      <td>0</td>\n",
       "    </tr>\n",
       "    <tr>\n",
       "      <th>2</th>\n",
       "      <td>8</td>\n",
       "      <td>183</td>\n",
       "      <td>64</td>\n",
       "      <td>0</td>\n",
       "      <td>0</td>\n",
       "      <td>23.3</td>\n",
       "      <td>0.672</td>\n",
       "      <td>32</td>\n",
       "      <td>1</td>\n",
       "    </tr>\n",
       "    <tr>\n",
       "      <th>3</th>\n",
       "      <td>1</td>\n",
       "      <td>89</td>\n",
       "      <td>66</td>\n",
       "      <td>23</td>\n",
       "      <td>94</td>\n",
       "      <td>28.1</td>\n",
       "      <td>0.167</td>\n",
       "      <td>21</td>\n",
       "      <td>0</td>\n",
       "    </tr>\n",
       "    <tr>\n",
       "      <th>4</th>\n",
       "      <td>0</td>\n",
       "      <td>137</td>\n",
       "      <td>40</td>\n",
       "      <td>35</td>\n",
       "      <td>168</td>\n",
       "      <td>43.1</td>\n",
       "      <td>2.288</td>\n",
       "      <td>33</td>\n",
       "      <td>1</td>\n",
       "    </tr>\n",
       "  </tbody>\n",
       "</table>\n",
       "</div>"
      ],
      "text/plain": [
       "   Pregnancies  Glucose  BloodPressure  SkinThickness  Insulin   BMI  \\\n",
       "0            6      148             72             35        0  33.6   \n",
       "1            1       85             66             29        0  26.6   \n",
       "2            8      183             64              0        0  23.3   \n",
       "3            1       89             66             23       94  28.1   \n",
       "4            0      137             40             35      168  43.1   \n",
       "\n",
       "   DiabetesPedigreeFunction  Age  Outcome  \n",
       "0                     0.627   50        1  \n",
       "1                     0.351   31        0  \n",
       "2                     0.672   32        1  \n",
       "3                     0.167   21        0  \n",
       "4                     2.288   33        1  "
      ]
     },
     "execution_count": 4,
     "metadata": {},
     "output_type": "execute_result"
    }
   ],
   "source": [
    "import pandas as pd\n",
    "\n",
    "df=pd.read_csv(r\"C:\\Users\\hanal\\Downloads\\diabetes (1).csv\")\n",
    "df.head()\n",
    "#d=df.copy\n"
   ]
  },
  {
   "cell_type": "markdown",
   "id": "20f09467-f18f-4df9-9359-ea49528a8d19",
   "metadata": {},
   "source": [
    "MIN-MAX"
   ]
  },
  {
   "cell_type": "code",
   "execution_count": 5,
   "id": "ccfafcd0-11f8-4773-8893-9bd543b0c901",
   "metadata": {},
   "outputs": [
    {
     "data": {
      "text/html": [
       "<div>\n",
       "<style scoped>\n",
       "    .dataframe tbody tr th:only-of-type {\n",
       "        vertical-align: middle;\n",
       "    }\n",
       "\n",
       "    .dataframe tbody tr th {\n",
       "        vertical-align: top;\n",
       "    }\n",
       "\n",
       "    .dataframe thead th {\n",
       "        text-align: right;\n",
       "    }\n",
       "</style>\n",
       "<table border=\"1\" class=\"dataframe\">\n",
       "  <thead>\n",
       "    <tr style=\"text-align: right;\">\n",
       "      <th></th>\n",
       "      <th>Pregnancies</th>\n",
       "      <th>Glucose</th>\n",
       "      <th>BloodPressure</th>\n",
       "      <th>SkinThickness</th>\n",
       "      <th>Insulin</th>\n",
       "      <th>BMI</th>\n",
       "      <th>DiabetesPedigreeFunction</th>\n",
       "      <th>Age</th>\n",
       "      <th>Outcome</th>\n",
       "    </tr>\n",
       "  </thead>\n",
       "  <tbody>\n",
       "    <tr>\n",
       "      <th>0</th>\n",
       "      <td>0.352941</td>\n",
       "      <td>0.743719</td>\n",
       "      <td>0.590164</td>\n",
       "      <td>0.353535</td>\n",
       "      <td>0.000000</td>\n",
       "      <td>0.500745</td>\n",
       "      <td>0.234415</td>\n",
       "      <td>0.483333</td>\n",
       "      <td>1.0</td>\n",
       "    </tr>\n",
       "    <tr>\n",
       "      <th>1</th>\n",
       "      <td>0.058824</td>\n",
       "      <td>0.427136</td>\n",
       "      <td>0.540984</td>\n",
       "      <td>0.292929</td>\n",
       "      <td>0.000000</td>\n",
       "      <td>0.396423</td>\n",
       "      <td>0.116567</td>\n",
       "      <td>0.166667</td>\n",
       "      <td>0.0</td>\n",
       "    </tr>\n",
       "    <tr>\n",
       "      <th>2</th>\n",
       "      <td>0.470588</td>\n",
       "      <td>0.919598</td>\n",
       "      <td>0.524590</td>\n",
       "      <td>0.000000</td>\n",
       "      <td>0.000000</td>\n",
       "      <td>0.347243</td>\n",
       "      <td>0.253629</td>\n",
       "      <td>0.183333</td>\n",
       "      <td>1.0</td>\n",
       "    </tr>\n",
       "    <tr>\n",
       "      <th>3</th>\n",
       "      <td>0.058824</td>\n",
       "      <td>0.447236</td>\n",
       "      <td>0.540984</td>\n",
       "      <td>0.232323</td>\n",
       "      <td>0.111111</td>\n",
       "      <td>0.418778</td>\n",
       "      <td>0.038002</td>\n",
       "      <td>0.000000</td>\n",
       "      <td>0.0</td>\n",
       "    </tr>\n",
       "    <tr>\n",
       "      <th>4</th>\n",
       "      <td>0.000000</td>\n",
       "      <td>0.688442</td>\n",
       "      <td>0.327869</td>\n",
       "      <td>0.353535</td>\n",
       "      <td>0.198582</td>\n",
       "      <td>0.642325</td>\n",
       "      <td>0.943638</td>\n",
       "      <td>0.200000</td>\n",
       "      <td>1.0</td>\n",
       "    </tr>\n",
       "  </tbody>\n",
       "</table>\n",
       "</div>"
      ],
      "text/plain": [
       "   Pregnancies   Glucose  BloodPressure  SkinThickness   Insulin       BMI  \\\n",
       "0     0.352941  0.743719       0.590164       0.353535  0.000000  0.500745   \n",
       "1     0.058824  0.427136       0.540984       0.292929  0.000000  0.396423   \n",
       "2     0.470588  0.919598       0.524590       0.000000  0.000000  0.347243   \n",
       "3     0.058824  0.447236       0.540984       0.232323  0.111111  0.418778   \n",
       "4     0.000000  0.688442       0.327869       0.353535  0.198582  0.642325   \n",
       "\n",
       "   DiabetesPedigreeFunction       Age  Outcome  \n",
       "0                  0.234415  0.483333      1.0  \n",
       "1                  0.116567  0.166667      0.0  \n",
       "2                  0.253629  0.183333      1.0  \n",
       "3                  0.038002  0.000000      0.0  \n",
       "4                  0.943638  0.200000      1.0  "
      ]
     },
     "execution_count": 5,
     "metadata": {},
     "output_type": "execute_result"
    }
   ],
   "source": [
    "mm=df.copy()\n",
    "for i in mm.columns:\n",
    "        mm_n=(mm-mm.min())/(mm.max()-mm.min())\n",
    "mm_n.head()\n"
   ]
  },
  {
   "cell_type": "code",
   "execution_count": 6,
   "id": "a76dc2c4-d0a8-4e32-a89e-0fbd4b24151c",
   "metadata": {},
   "outputs": [],
   "source": [
    "from sklearn.svm import SVC\n",
    "from sklearn.ensemble import RandomForestClassifier as rf\n",
    "from sklearn.model_selection import train_test_split as tt\n",
    "from sklearn.metrics import accuracy_score as acc\n",
    "from sklearn.tree import DecisionTreeClassifier as dt\n",
    "from sklearn.neighbors import KNeighborsClassifier as kn\n",
    "from sklearn.preprocessing import StandardScaler as ss"
   ]
  },
  {
   "cell_type": "code",
   "execution_count": 7,
   "id": "c0987529-5428-4446-bf28-3885699b60f0",
   "metadata": {},
   "outputs": [],
   "source": [
    "x=mm_n.iloc[:,:-1]\n",
    "y=mm_n.iloc[:,-1]\n"
   ]
  },
  {
   "cell_type": "code",
   "execution_count": 8,
   "id": "cd95f08b-43b5-40e0-aed7-7fe49bd79b52",
   "metadata": {},
   "outputs": [],
   "source": [
    "x_tr,x_te,y_tr,y_te=tt(x,y,random_state=42)\n",
    "svc=SVC(kernel='linear')\n",
    "svc.fit(x_tr,y_tr)\n",
    "y_p=svc.predict(x_te)\n",
    "ac11=acc(y_te,y_p)"
   ]
  },
  {
   "cell_type": "code",
   "execution_count": 9,
   "id": "399e9f9a-2afb-4233-95a2-846c2127dfcf",
   "metadata": {},
   "outputs": [
    {
     "data": {
      "text/plain": [
       "0.75"
      ]
     },
     "execution_count": 9,
     "metadata": {},
     "output_type": "execute_result"
    }
   ],
   "source": [
    "ac11"
   ]
  },
  {
   "cell_type": "code",
   "execution_count": 10,
   "id": "a66bcad6-3185-4098-8050-2dccfe1d9f61",
   "metadata": {},
   "outputs": [],
   "source": [
    "r=rf(random_state=42)\n",
    "r.fit(x_tr,y_tr)\n",
    "y_p1=r.predict(x_te)\n",
    "ac12=acc(y_te,y_p1)\n"
   ]
  },
  {
   "cell_type": "code",
   "execution_count": 11,
   "id": "d1686d10-53a5-42a9-a875-1117848bedbf",
   "metadata": {},
   "outputs": [
    {
     "data": {
      "text/plain": [
       "0.7395833333333334"
      ]
     },
     "execution_count": 11,
     "metadata": {},
     "output_type": "execute_result"
    }
   ],
   "source": [
    "ac12"
   ]
  },
  {
   "cell_type": "markdown",
   "id": "657920eb-80bf-4730-80c7-4633da20d77d",
   "metadata": {},
   "source": [
    "Z-SCORE"
   ]
  },
  {
   "cell_type": "code",
   "execution_count": 12,
   "id": "0681d626-873f-4fca-a9a6-62e2b63bd710",
   "metadata": {},
   "outputs": [
    {
     "data": {
      "text/html": [
       "<div>\n",
       "<style scoped>\n",
       "    .dataframe tbody tr th:only-of-type {\n",
       "        vertical-align: middle;\n",
       "    }\n",
       "\n",
       "    .dataframe tbody tr th {\n",
       "        vertical-align: top;\n",
       "    }\n",
       "\n",
       "    .dataframe thead th {\n",
       "        text-align: right;\n",
       "    }\n",
       "</style>\n",
       "<table border=\"1\" class=\"dataframe\">\n",
       "  <thead>\n",
       "    <tr style=\"text-align: right;\">\n",
       "      <th></th>\n",
       "      <th>Pregnancies</th>\n",
       "      <th>Glucose</th>\n",
       "      <th>BloodPressure</th>\n",
       "      <th>SkinThickness</th>\n",
       "      <th>Insulin</th>\n",
       "      <th>BMI</th>\n",
       "      <th>DiabetesPedigreeFunction</th>\n",
       "      <th>Age</th>\n",
       "      <th>Outcome</th>\n",
       "    </tr>\n",
       "  </thead>\n",
       "  <tbody>\n",
       "    <tr>\n",
       "      <th>0</th>\n",
       "      <td>0.639530</td>\n",
       "      <td>0.847771</td>\n",
       "      <td>0.149543</td>\n",
       "      <td>0.906679</td>\n",
       "      <td>-0.692439</td>\n",
       "      <td>0.203880</td>\n",
       "      <td>0.468187</td>\n",
       "      <td>1.425067</td>\n",
       "      <td>1.365006</td>\n",
       "    </tr>\n",
       "    <tr>\n",
       "      <th>1</th>\n",
       "      <td>-0.844335</td>\n",
       "      <td>-1.122665</td>\n",
       "      <td>-0.160441</td>\n",
       "      <td>0.530556</td>\n",
       "      <td>-0.692439</td>\n",
       "      <td>-0.683976</td>\n",
       "      <td>-0.364823</td>\n",
       "      <td>-0.190548</td>\n",
       "      <td>-0.731643</td>\n",
       "    </tr>\n",
       "    <tr>\n",
       "      <th>2</th>\n",
       "      <td>1.233077</td>\n",
       "      <td>1.942458</td>\n",
       "      <td>-0.263769</td>\n",
       "      <td>-1.287373</td>\n",
       "      <td>-0.692439</td>\n",
       "      <td>-1.102537</td>\n",
       "      <td>0.604004</td>\n",
       "      <td>-0.105515</td>\n",
       "      <td>1.365006</td>\n",
       "    </tr>\n",
       "    <tr>\n",
       "      <th>3</th>\n",
       "      <td>-0.844335</td>\n",
       "      <td>-0.997558</td>\n",
       "      <td>-0.160441</td>\n",
       "      <td>0.154433</td>\n",
       "      <td>0.123221</td>\n",
       "      <td>-0.493721</td>\n",
       "      <td>-0.920163</td>\n",
       "      <td>-1.040871</td>\n",
       "      <td>-0.731643</td>\n",
       "    </tr>\n",
       "    <tr>\n",
       "      <th>4</th>\n",
       "      <td>-1.141108</td>\n",
       "      <td>0.503727</td>\n",
       "      <td>-1.503707</td>\n",
       "      <td>0.906679</td>\n",
       "      <td>0.765337</td>\n",
       "      <td>1.408828</td>\n",
       "      <td>5.481337</td>\n",
       "      <td>-0.020483</td>\n",
       "      <td>1.365006</td>\n",
       "    </tr>\n",
       "  </tbody>\n",
       "</table>\n",
       "</div>"
      ],
      "text/plain": [
       "   Pregnancies   Glucose  BloodPressure  SkinThickness   Insulin       BMI  \\\n",
       "0     0.639530  0.847771       0.149543       0.906679 -0.692439  0.203880   \n",
       "1    -0.844335 -1.122665      -0.160441       0.530556 -0.692439 -0.683976   \n",
       "2     1.233077  1.942458      -0.263769      -1.287373 -0.692439 -1.102537   \n",
       "3    -0.844335 -0.997558      -0.160441       0.154433  0.123221 -0.493721   \n",
       "4    -1.141108  0.503727      -1.503707       0.906679  0.765337  1.408828   \n",
       "\n",
       "   DiabetesPedigreeFunction       Age   Outcome  \n",
       "0                  0.468187  1.425067  1.365006  \n",
       "1                 -0.364823 -0.190548 -0.731643  \n",
       "2                  0.604004 -0.105515  1.365006  \n",
       "3                 -0.920163 -1.040871 -0.731643  \n",
       "4                  5.481337 -0.020483  1.365006  "
      ]
     },
     "execution_count": 12,
     "metadata": {},
     "output_type": "execute_result"
    }
   ],
   "source": [
    "zsc=df.copy()\n",
    "for i in zsc.columns:\n",
    "    zsc_n=(zsc-zsc.mean())/zsc.std()\n",
    "zsc_n.head()"
   ]
  },
  {
   "cell_type": "code",
   "execution_count": 13,
   "id": "d9bbe190-d859-4a6e-a8fa-531847768a4d",
   "metadata": {},
   "outputs": [],
   "source": [
    "x=zsc_n.iloc[:,:-1]\n",
    "y=zsc_n.iloc[:,-1]\n",
    "y_b = (y >=0.5).astype(int)\n",
    "x_tr,x_te,y_tr,y_te=tt(x,y_b,random_state=42)\n",
    "svc=SVC(kernel='linear')\n",
    "svc.fit(x_tr,y_tr)\n",
    "y_p=svc.predict(x_te)\n",
    "ac21=acc(y_te,y_p)"
   ]
  },
  {
   "cell_type": "code",
   "execution_count": 14,
   "id": "8621d5f4-be69-490a-b8bd-2845b507035b",
   "metadata": {},
   "outputs": [
    {
     "data": {
      "text/plain": [
       "0.7291666666666666"
      ]
     },
     "execution_count": 14,
     "metadata": {},
     "output_type": "execute_result"
    }
   ],
   "source": [
    "ac21"
   ]
  },
  {
   "cell_type": "code",
   "execution_count": 15,
   "id": "5f18a16b-516d-46d6-af98-856438417b3d",
   "metadata": {},
   "outputs": [],
   "source": [
    "r=rf(random_state=42)\n",
    "r.fit(x_tr,y_tr)\n",
    "y_p1=r.predict(x_te)\n",
    "ac22=acc(y_te,y_p1)\n"
   ]
  },
  {
   "cell_type": "code",
   "execution_count": 16,
   "id": "14bb6ada-d75e-4ede-aa7b-a0ef5c1b8344",
   "metadata": {},
   "outputs": [
    {
     "data": {
      "text/plain": [
       "0.734375"
      ]
     },
     "execution_count": 16,
     "metadata": {},
     "output_type": "execute_result"
    }
   ],
   "source": [
    "ac22"
   ]
  },
  {
   "cell_type": "markdown",
   "id": "9fcfebbe-45fb-43db-ab35-a91ee9a0dc4e",
   "metadata": {},
   "source": [
    "DECIMAL SCALING"
   ]
  },
  {
   "cell_type": "code",
   "execution_count": 17,
   "id": "599d5097-9a94-4f60-88cd-c1c2c6a1a601",
   "metadata": {},
   "outputs": [],
   "source": [
    "def dec(d):\n",
    "    for  i in d:\n",
    "        p=d[i].max()\n",
    "        q=len(str(abs(p)))\n",
    "        d[i]=d[i]/10**q\n",
    "    return d"
   ]
  },
  {
   "cell_type": "code",
   "execution_count": 18,
   "id": "f4e979df-eee9-427a-a5bb-66422d698686",
   "metadata": {},
   "outputs": [
    {
     "data": {
      "text/html": [
       "<div>\n",
       "<style scoped>\n",
       "    .dataframe tbody tr th:only-of-type {\n",
       "        vertical-align: middle;\n",
       "    }\n",
       "\n",
       "    .dataframe tbody tr th {\n",
       "        vertical-align: top;\n",
       "    }\n",
       "\n",
       "    .dataframe thead th {\n",
       "        text-align: right;\n",
       "    }\n",
       "</style>\n",
       "<table border=\"1\" class=\"dataframe\">\n",
       "  <thead>\n",
       "    <tr style=\"text-align: right;\">\n",
       "      <th></th>\n",
       "      <th>Pregnancies</th>\n",
       "      <th>Glucose</th>\n",
       "      <th>BloodPressure</th>\n",
       "      <th>SkinThickness</th>\n",
       "      <th>Insulin</th>\n",
       "      <th>BMI</th>\n",
       "      <th>DiabetesPedigreeFunction</th>\n",
       "      <th>Age</th>\n",
       "      <th>Outcome</th>\n",
       "    </tr>\n",
       "  </thead>\n",
       "  <tbody>\n",
       "    <tr>\n",
       "      <th>0</th>\n",
       "      <td>0.06</td>\n",
       "      <td>0.148</td>\n",
       "      <td>0.072</td>\n",
       "      <td>0.35</td>\n",
       "      <td>0.000</td>\n",
       "      <td>0.00336</td>\n",
       "      <td>0.000063</td>\n",
       "      <td>0.50</td>\n",
       "      <td>0.1</td>\n",
       "    </tr>\n",
       "    <tr>\n",
       "      <th>1</th>\n",
       "      <td>0.01</td>\n",
       "      <td>0.085</td>\n",
       "      <td>0.066</td>\n",
       "      <td>0.29</td>\n",
       "      <td>0.000</td>\n",
       "      <td>0.00266</td>\n",
       "      <td>0.000035</td>\n",
       "      <td>0.31</td>\n",
       "      <td>0.0</td>\n",
       "    </tr>\n",
       "    <tr>\n",
       "      <th>2</th>\n",
       "      <td>0.08</td>\n",
       "      <td>0.183</td>\n",
       "      <td>0.064</td>\n",
       "      <td>0.00</td>\n",
       "      <td>0.000</td>\n",
       "      <td>0.00233</td>\n",
       "      <td>0.000067</td>\n",
       "      <td>0.32</td>\n",
       "      <td>0.1</td>\n",
       "    </tr>\n",
       "    <tr>\n",
       "      <th>3</th>\n",
       "      <td>0.01</td>\n",
       "      <td>0.089</td>\n",
       "      <td>0.066</td>\n",
       "      <td>0.23</td>\n",
       "      <td>0.094</td>\n",
       "      <td>0.00281</td>\n",
       "      <td>0.000017</td>\n",
       "      <td>0.21</td>\n",
       "      <td>0.0</td>\n",
       "    </tr>\n",
       "    <tr>\n",
       "      <th>4</th>\n",
       "      <td>0.00</td>\n",
       "      <td>0.137</td>\n",
       "      <td>0.040</td>\n",
       "      <td>0.35</td>\n",
       "      <td>0.168</td>\n",
       "      <td>0.00431</td>\n",
       "      <td>0.000229</td>\n",
       "      <td>0.33</td>\n",
       "      <td>0.1</td>\n",
       "    </tr>\n",
       "  </tbody>\n",
       "</table>\n",
       "</div>"
      ],
      "text/plain": [
       "   Pregnancies  Glucose  BloodPressure  SkinThickness  Insulin      BMI  \\\n",
       "0         0.06    0.148          0.072           0.35    0.000  0.00336   \n",
       "1         0.01    0.085          0.066           0.29    0.000  0.00266   \n",
       "2         0.08    0.183          0.064           0.00    0.000  0.00233   \n",
       "3         0.01    0.089          0.066           0.23    0.094  0.00281   \n",
       "4         0.00    0.137          0.040           0.35    0.168  0.00431   \n",
       "\n",
       "   DiabetesPedigreeFunction   Age  Outcome  \n",
       "0                  0.000063  0.50      0.1  \n",
       "1                  0.000035  0.31      0.0  \n",
       "2                  0.000067  0.32      0.1  \n",
       "3                  0.000017  0.21      0.0  \n",
       "4                  0.000229  0.33      0.1  "
      ]
     },
     "execution_count": 18,
     "metadata": {},
     "output_type": "execute_result"
    }
   ],
   "source": [
    "dd=df.copy()\n",
    "decm=dec(dd)\n",
    "decm.head()"
   ]
  },
  {
   "cell_type": "code",
   "execution_count": 19,
   "id": "a8826b68-dba7-4510-b605-a27c6e8835dc",
   "metadata": {},
   "outputs": [],
   "source": [
    "x=decm.iloc[:,:-1]\n",
    "y=decm.iloc[:,-1]\n",
    "y_b = (y >=0.1).astype(int)\n",
    "x_tr,x_te,y_tr,y_te=tt(x,y_b,random_state=42)\n",
    "svc=SVC(kernel='linear')\n",
    "svc.fit(x_tr,y_tr)\n",
    "y_p=svc.predict(x_te)\n",
    "ac31=acc(y_te,y_p)"
   ]
  },
  {
   "cell_type": "code",
   "execution_count": 20,
   "id": "da4072fe-bc7e-45cb-9302-2f9594adc52f",
   "metadata": {},
   "outputs": [
    {
     "data": {
      "text/plain": [
       "0.6458333333333334"
      ]
     },
     "execution_count": 20,
     "metadata": {},
     "output_type": "execute_result"
    }
   ],
   "source": [
    "ac31"
   ]
  },
  {
   "cell_type": "code",
   "execution_count": 21,
   "id": "20cd81cd-1641-4514-b357-afea8d9fbc3c",
   "metadata": {},
   "outputs": [],
   "source": [
    "r=rf(random_state=42)\n",
    "r.fit(x_tr,y_tr)\n",
    "y_p1=r.predict(x_te)\n",
    "ac32=acc(y_te,y_p1)\n"
   ]
  },
  {
   "cell_type": "code",
   "execution_count": 22,
   "id": "a09e98bc-91fa-4c5b-bac6-6902e0a9ca87",
   "metadata": {},
   "outputs": [
    {
     "data": {
      "text/plain": [
       "0.7447916666666666"
      ]
     },
     "execution_count": 22,
     "metadata": {},
     "output_type": "execute_result"
    }
   ],
   "source": [
    "ac32"
   ]
  },
  {
   "cell_type": "markdown",
   "id": "cd21f134-0618-4374-b028-918a5e2816ba",
   "metadata": {},
   "source": [
    "LOGARITHMIC TRANSFORMAtION"
   ]
  },
  {
   "cell_type": "code",
   "execution_count": 23,
   "id": "20df0900-e320-4991-b0ab-6966d3e4a99e",
   "metadata": {
    "scrolled": true
   },
   "outputs": [
    {
     "data": {
      "text/plain": [
       "20.536458333333332"
      ]
     },
     "execution_count": 23,
     "metadata": {},
     "output_type": "execute_result"
    }
   ],
   "source": [
    "import seaborn as sns\n",
    "import numpy as np\n",
    "df=pd.read_csv(r\"C:\\Users\\hanal\\Downloads\\diabetes (1).csv\")\n",
    "df.var()\n",
    "df['SkinThickness'].mean()\n"
   ]
  },
  {
   "cell_type": "code",
   "execution_count": 24,
   "id": "0b22e6ca-61eb-450c-a516-e6d7526bb47c",
   "metadata": {},
   "outputs": [
    {
     "name": "stderr",
     "output_type": "stream",
     "text": [
      "C:\\Users\\hanal\\AppData\\Local\\Temp\\ipykernel_20856\\1408308723.py:1: FutureWarning: A value is trying to be set on a copy of a DataFrame or Series through chained assignment using an inplace method.\n",
      "The behavior will change in pandas 3.0. This inplace method will never work because the intermediate object on which we are setting values always behaves as a copy.\n",
      "\n",
      "For example, when doing 'df[col].method(value, inplace=True)', try using 'df.method({col: value}, inplace=True)' or df[col] = df[col].method(value) instead, to perform the operation inplace on the original object.\n",
      "\n",
      "\n",
      "  df['Insulin'].replace(0, 79,inplace=True)\n",
      "C:\\Users\\hanal\\AppData\\Local\\Temp\\ipykernel_20856\\1408308723.py:3: FutureWarning: A value is trying to be set on a copy of a DataFrame or Series through chained assignment using an inplace method.\n",
      "The behavior will change in pandas 3.0. This inplace method will never work because the intermediate object on which we are setting values always behaves as a copy.\n",
      "\n",
      "For example, when doing 'df[col].method(value, inplace=True)', try using 'df.method({col: value}, inplace=True)' or df[col] = df[col].method(value) instead, to perform the operation inplace on the original object.\n",
      "\n",
      "\n",
      "  df['Pregnancies'].replace(0, 4,inplace=True)\n"
     ]
    }
   ],
   "source": [
    "df['Insulin'].replace(0, 79,inplace=True)\n",
    "df['Insulin'] = np.log(df['Insulin'])\n",
    "df['Pregnancies'].replace(0, 4,inplace=True)"
   ]
  },
  {
   "cell_type": "code",
   "execution_count": 25,
   "id": "ee66baf6-920b-4811-b2c8-183bc75834b7",
   "metadata": {},
   "outputs": [
    {
     "data": {
      "text/plain": [
       "Pregnancies                    8.883269\n",
       "Glucose                     1022.248314\n",
       "BloodPressure                374.647271\n",
       "SkinThickness                254.473245\n",
       "Insulin                        0.298401\n",
       "BMI                           62.159984\n",
       "DiabetesPedigreeFunction       0.109779\n",
       "Age                          138.303046\n",
       "Outcome                        0.227483\n",
       "dtype: float64"
      ]
     },
     "execution_count": 25,
     "metadata": {},
     "output_type": "execute_result"
    }
   ],
   "source": [
    "df.var()\n"
   ]
  },
  {
   "cell_type": "code",
   "execution_count": 26,
   "id": "2748f3ce-2b11-4896-b333-ebfeb33c4e09",
   "metadata": {},
   "outputs": [
    {
     "name": "stderr",
     "output_type": "stream",
     "text": [
      "C:\\Users\\hanal\\AppData\\Local\\Temp\\ipykernel_20856\\1006462635.py:1: FutureWarning: A value is trying to be set on a copy of a DataFrame or Series through chained assignment using an inplace method.\n",
      "The behavior will change in pandas 3.0. This inplace method will never work because the intermediate object on which we are setting values always behaves as a copy.\n",
      "\n",
      "For example, when doing 'df[col].method(value, inplace=True)', try using 'df.method({col: value}, inplace=True)' or df[col] = df[col].method(value) instead, to perform the operation inplace on the original object.\n",
      "\n",
      "\n",
      "  df['Glucose'].replace(-np.inf, 120,inplace=True)\n",
      "C:\\Users\\hanal\\AppData\\Local\\Temp\\ipykernel_20856\\1006462635.py:2: FutureWarning: A value is trying to be set on a copy of a DataFrame or Series through chained assignment using an inplace method.\n",
      "The behavior will change in pandas 3.0. This inplace method will never work because the intermediate object on which we are setting values always behaves as a copy.\n",
      "\n",
      "For example, when doing 'df[col].method(value, inplace=True)', try using 'df.method({col: value}, inplace=True)' or df[col] = df[col].method(value) instead, to perform the operation inplace on the original object.\n",
      "\n",
      "\n",
      "  df['Glucose'].replace(0,120,inplace=True)\n"
     ]
    }
   ],
   "source": [
    "df['Glucose'].replace(-np.inf, 120,inplace=True)\n",
    "df['Glucose'].replace(0,120,inplace=True)\n",
    "df['Glucose']=np.log(df['Glucose'])"
   ]
  },
  {
   "cell_type": "code",
   "execution_count": 27,
   "id": "783cc7a4-f9bf-44f7-9364-3591e9e6affe",
   "metadata": {},
   "outputs": [
    {
     "data": {
      "text/plain": [
       "Pregnancies                   8.883269\n",
       "Glucose                       0.062355\n",
       "BloodPressure               374.647271\n",
       "SkinThickness               254.473245\n",
       "Insulin                       0.298401\n",
       "BMI                          62.159984\n",
       "DiabetesPedigreeFunction      0.109779\n",
       "Age                         138.303046\n",
       "Outcome                       0.227483\n",
       "dtype: float64"
      ]
     },
     "execution_count": 27,
     "metadata": {},
     "output_type": "execute_result"
    }
   ],
   "source": [
    "df.var()\n"
   ]
  },
  {
   "cell_type": "code",
   "execution_count": 28,
   "id": "9fec6f16-770b-4846-abdb-84258f40e5dc",
   "metadata": {},
   "outputs": [
    {
     "data": {
      "text/plain": [
       "20.536458333333332"
      ]
     },
     "execution_count": 28,
     "metadata": {},
     "output_type": "execute_result"
    }
   ],
   "source": [
    "df['SkinThickness'].mean()"
   ]
  },
  {
   "cell_type": "code",
   "execution_count": 29,
   "id": "e394122b-6de1-4144-b6d1-5fa1747466ef",
   "metadata": {},
   "outputs": [
    {
     "name": "stderr",
     "output_type": "stream",
     "text": [
      "C:\\Users\\hanal\\AppData\\Local\\Temp\\ipykernel_20856\\3903935797.py:1: FutureWarning: A value is trying to be set on a copy of a DataFrame or Series through chained assignment using an inplace method.\n",
      "The behavior will change in pandas 3.0. This inplace method will never work because the intermediate object on which we are setting values always behaves as a copy.\n",
      "\n",
      "For example, when doing 'df[col].method(value, inplace=True)', try using 'df.method({col: value}, inplace=True)' or df[col] = df[col].method(value) instead, to perform the operation inplace on the original object.\n",
      "\n",
      "\n",
      "  df['SkinThickness'].replace(-np.inf, 2,inplace=True)\n",
      "C:\\Users\\hanal\\AppData\\Local\\Temp\\ipykernel_20856\\3903935797.py:2: FutureWarning: A value is trying to be set on a copy of a DataFrame or Series through chained assignment using an inplace method.\n",
      "The behavior will change in pandas 3.0. This inplace method will never work because the intermediate object on which we are setting values always behaves as a copy.\n",
      "\n",
      "For example, when doing 'df[col].method(value, inplace=True)', try using 'df.method({col: value}, inplace=True)' or df[col] = df[col].method(value) instead, to perform the operation inplace on the original object.\n",
      "\n",
      "\n",
      "  df['SkinThickness'].replace(0, 20,inplace=True)\n"
     ]
    },
    {
     "data": {
      "text/plain": [
       "Pregnancies                   8.883269\n",
       "Glucose                       0.062355\n",
       "BloodPressure               374.647271\n",
       "SkinThickness                 0.126251\n",
       "Insulin                       0.298401\n",
       "BMI                          62.159984\n",
       "DiabetesPedigreeFunction      0.109779\n",
       "Age                         138.303046\n",
       "Outcome                       0.227483\n",
       "dtype: float64"
      ]
     },
     "execution_count": 29,
     "metadata": {},
     "output_type": "execute_result"
    }
   ],
   "source": [
    " df['SkinThickness'].replace(-np.inf, 2,inplace=True)\n",
    "df['SkinThickness'].replace(0, 20,inplace=True)\n",
    "df['SkinThickness']=np.log(df['SkinThickness'])\n",
    "df.var()"
   ]
  },
  {
   "cell_type": "code",
   "execution_count": 30,
   "id": "fce66333-73a4-490f-80a9-1f3f30a10fe4",
   "metadata": {},
   "outputs": [
    {
     "name": "stderr",
     "output_type": "stream",
     "text": [
      "C:\\Users\\hanal\\AppData\\Local\\Temp\\ipykernel_20856\\2992917319.py:1: FutureWarning: A value is trying to be set on a copy of a DataFrame or Series through chained assignment using an inplace method.\n",
      "The behavior will change in pandas 3.0. This inplace method will never work because the intermediate object on which we are setting values always behaves as a copy.\n",
      "\n",
      "For example, when doing 'df[col].method(value, inplace=True)', try using 'df.method({col: value}, inplace=True)' or df[col] = df[col].method(value) instead, to perform the operation inplace on the original object.\n",
      "\n",
      "\n",
      "  df['BloodPressure'].replace(0, df['BloodPressure'].mean(),inplace=True)\n",
      "C:\\Users\\hanal\\AppData\\Local\\Temp\\ipykernel_20856\\2992917319.py:2: FutureWarning: A value is trying to be set on a copy of a DataFrame or Series through chained assignment using an inplace method.\n",
      "The behavior will change in pandas 3.0. This inplace method will never work because the intermediate object on which we are setting values always behaves as a copy.\n",
      "\n",
      "For example, when doing 'df[col].method(value, inplace=True)', try using 'df.method({col: value}, inplace=True)' or df[col] = df[col].method(value) instead, to perform the operation inplace on the original object.\n",
      "\n",
      "\n",
      "  df['SkinThickness'].replace(-np.inf, df['SkinThickness'].mean(),inplace=True)\n"
     ]
    },
    {
     "data": {
      "text/plain": [
       "Pregnancies                   8.883269\n",
       "Glucose                       0.062355\n",
       "BloodPressure                 0.030575\n",
       "SkinThickness                 0.126251\n",
       "Insulin                       0.298401\n",
       "BMI                          62.159984\n",
       "DiabetesPedigreeFunction      0.109779\n",
       "Age                         138.303046\n",
       "Outcome                       0.227483\n",
       "dtype: float64"
      ]
     },
     "execution_count": 30,
     "metadata": {},
     "output_type": "execute_result"
    }
   ],
   "source": [
    "df['BloodPressure'].replace(0, df['BloodPressure'].mean(),inplace=True)\n",
    "df['SkinThickness'].replace(-np.inf, df['SkinThickness'].mean(),inplace=True)\n",
    "df['BloodPressure']=np.log(df['BloodPressure'])\n",
    "df.var()"
   ]
  },
  {
   "cell_type": "code",
   "execution_count": 31,
   "id": "b821a970-da17-4092-9e04-dd4fc262def1",
   "metadata": {},
   "outputs": [
    {
     "name": "stderr",
     "output_type": "stream",
     "text": [
      "C:\\Users\\hanal\\AppData\\Local\\Temp\\ipykernel_20856\\2123924329.py:1: FutureWarning: A value is trying to be set on a copy of a DataFrame or Series through chained assignment using an inplace method.\n",
      "The behavior will change in pandas 3.0. This inplace method will never work because the intermediate object on which we are setting values always behaves as a copy.\n",
      "\n",
      "For example, when doing 'df[col].method(value, inplace=True)', try using 'df.method({col: value}, inplace=True)' or df[col] = df[col].method(value) instead, to perform the operation inplace on the original object.\n",
      "\n",
      "\n",
      "  df['BMI'].replace(0, df['BMI'].mean(),inplace=True)\n"
     ]
    },
    {
     "data": {
      "text/plain": [
       "Pregnancies                   8.883269\n",
       "Glucose                       0.062355\n",
       "BloodPressure                 0.030575\n",
       "SkinThickness                 0.126251\n",
       "Insulin                       0.298401\n",
       "BMI                           0.044444\n",
       "DiabetesPedigreeFunction      0.109779\n",
       "Age                         138.303046\n",
       "Outcome                       0.227483\n",
       "dtype: float64"
      ]
     },
     "execution_count": 31,
     "metadata": {},
     "output_type": "execute_result"
    }
   ],
   "source": [
    "df['BMI'].replace(0, df['BMI'].mean(),inplace=True)\n",
    "df['BMI']=np.log(df['BMI'])\n",
    "df.var()"
   ]
  },
  {
   "cell_type": "code",
   "execution_count": 32,
   "id": "4b309221-6d5f-4f6e-8927-d64d2b81b157",
   "metadata": {},
   "outputs": [
    {
     "data": {
      "text/plain": [
       "Pregnancies                 8.883269\n",
       "Glucose                     0.062355\n",
       "BloodPressure               0.030575\n",
       "SkinThickness               0.126251\n",
       "Insulin                     0.298401\n",
       "BMI                         0.044444\n",
       "DiabetesPedigreeFunction    0.109779\n",
       "Age                         0.104137\n",
       "Outcome                     0.227483\n",
       "dtype: float64"
      ]
     },
     "execution_count": 32,
     "metadata": {},
     "output_type": "execute_result"
    }
   ],
   "source": [
    "\n",
    "df['Age']=np.log(df['Age'])\n",
    "df.var()\n"
   ]
  },
  {
   "cell_type": "code",
   "execution_count": 223,
   "id": "8e352f9e-9f28-48f5-96e0-4ad050113611",
   "metadata": {},
   "outputs": [
    {
     "name": "stderr",
     "output_type": "stream",
     "text": [
      "C:\\Users\\hanal\\AppData\\Local\\Temp\\ipykernel_18452\\2940110663.py:1: FutureWarning: A value is trying to be set on a copy of a DataFrame or Series through chained assignment using an inplace method.\n",
      "The behavior will change in pandas 3.0. This inplace method will never work because the intermediate object on which we are setting values always behaves as a copy.\n",
      "\n",
      "For example, when doing 'df[col].method(value, inplace=True)', try using 'df.method({col: value}, inplace=True)' or df[col] = df[col].method(value) instead, to perform the operation inplace on the original object.\n",
      "\n",
      "\n",
      "  df['Pregnancies'].replace(0, 4,inplace=True)\n"
     ]
    },
    {
     "data": {
      "text/plain": [
       "Pregnancies                 0.552182\n",
       "Glucose                     0.062355\n",
       "BloodPressure               0.030575\n",
       "SkinThickness               0.126251\n",
       "Insulin                     0.298401\n",
       "BMI                         0.044444\n",
       "DiabetesPedigreeFunction    0.109779\n",
       "Age                         0.104137\n",
       "Outcome                     0.227483\n",
       "dtype: float64"
      ]
     },
     "execution_count": 223,
     "metadata": {},
     "output_type": "execute_result"
    }
   ],
   "source": [
    "df['Pregnancies'].replace(0, 4,inplace=True)\n",
    "df['Pregnancies']=np.log(df['Pregnancies'])\n",
    "df.var()"
   ]
  },
  {
   "cell_type": "code",
   "execution_count": 224,
   "id": "7a435d5a-1090-41d4-9f6c-71dc7ca283f6",
   "metadata": {},
   "outputs": [
    {
     "name": "stderr",
     "output_type": "stream",
     "text": [
      "C:\\Users\\hanal\\AppData\\Local\\Temp\\ipykernel_18452\\3148523950.py:1: FutureWarning: A value is trying to be set on a copy of a DataFrame or Series through chained assignment using an inplace method.\n",
      "The behavior will change in pandas 3.0. This inplace method will never work because the intermediate object on which we are setting values always behaves as a copy.\n",
      "\n",
      "For example, when doing 'df[col].method(value, inplace=True)', try using 'df.method({col: value}, inplace=True)' or df[col] = df[col].method(value) instead, to perform the operation inplace on the original object.\n",
      "\n",
      "\n",
      "  df['Pregnancies'].replace('NaN', 4,inplace=True)\n"
     ]
    },
    {
     "data": {
      "text/html": [
       "<div>\n",
       "<style scoped>\n",
       "    .dataframe tbody tr th:only-of-type {\n",
       "        vertical-align: middle;\n",
       "    }\n",
       "\n",
       "    .dataframe tbody tr th {\n",
       "        vertical-align: top;\n",
       "    }\n",
       "\n",
       "    .dataframe thead th {\n",
       "        text-align: right;\n",
       "    }\n",
       "</style>\n",
       "<table border=\"1\" class=\"dataframe\">\n",
       "  <thead>\n",
       "    <tr style=\"text-align: right;\">\n",
       "      <th></th>\n",
       "      <th>Pregnancies</th>\n",
       "      <th>Glucose</th>\n",
       "      <th>BloodPressure</th>\n",
       "      <th>SkinThickness</th>\n",
       "      <th>Insulin</th>\n",
       "      <th>BMI</th>\n",
       "      <th>DiabetesPedigreeFunction</th>\n",
       "      <th>Age</th>\n",
       "      <th>Outcome</th>\n",
       "    </tr>\n",
       "  </thead>\n",
       "  <tbody>\n",
       "    <tr>\n",
       "      <th>0</th>\n",
       "      <td>1.791759</td>\n",
       "      <td>4.997212</td>\n",
       "      <td>4.276666</td>\n",
       "      <td>3.555348</td>\n",
       "      <td>4.369448</td>\n",
       "      <td>3.514526</td>\n",
       "      <td>0.627</td>\n",
       "      <td>3.912023</td>\n",
       "      <td>1</td>\n",
       "    </tr>\n",
       "    <tr>\n",
       "      <th>1</th>\n",
       "      <td>0.000000</td>\n",
       "      <td>4.442651</td>\n",
       "      <td>4.189655</td>\n",
       "      <td>3.367296</td>\n",
       "      <td>4.369448</td>\n",
       "      <td>3.280911</td>\n",
       "      <td>0.351</td>\n",
       "      <td>3.433987</td>\n",
       "      <td>0</td>\n",
       "    </tr>\n",
       "    <tr>\n",
       "      <th>2</th>\n",
       "      <td>2.079442</td>\n",
       "      <td>5.209486</td>\n",
       "      <td>4.158883</td>\n",
       "      <td>2.995732</td>\n",
       "      <td>4.369448</td>\n",
       "      <td>3.148453</td>\n",
       "      <td>0.672</td>\n",
       "      <td>3.465736</td>\n",
       "      <td>1</td>\n",
       "    </tr>\n",
       "    <tr>\n",
       "      <th>3</th>\n",
       "      <td>0.000000</td>\n",
       "      <td>4.488636</td>\n",
       "      <td>4.189655</td>\n",
       "      <td>3.135494</td>\n",
       "      <td>4.543295</td>\n",
       "      <td>3.335770</td>\n",
       "      <td>0.167</td>\n",
       "      <td>3.044522</td>\n",
       "      <td>0</td>\n",
       "    </tr>\n",
       "    <tr>\n",
       "      <th>4</th>\n",
       "      <td>1.386294</td>\n",
       "      <td>4.919981</td>\n",
       "      <td>3.688879</td>\n",
       "      <td>3.555348</td>\n",
       "      <td>5.123964</td>\n",
       "      <td>3.763523</td>\n",
       "      <td>2.288</td>\n",
       "      <td>3.496508</td>\n",
       "      <td>1</td>\n",
       "    </tr>\n",
       "  </tbody>\n",
       "</table>\n",
       "</div>"
      ],
      "text/plain": [
       "   Pregnancies   Glucose  BloodPressure  SkinThickness   Insulin       BMI  \\\n",
       "0     1.791759  4.997212       4.276666       3.555348  4.369448  3.514526   \n",
       "1     0.000000  4.442651       4.189655       3.367296  4.369448  3.280911   \n",
       "2     2.079442  5.209486       4.158883       2.995732  4.369448  3.148453   \n",
       "3     0.000000  4.488636       4.189655       3.135494  4.543295  3.335770   \n",
       "4     1.386294  4.919981       3.688879       3.555348  5.123964  3.763523   \n",
       "\n",
       "   DiabetesPedigreeFunction       Age  Outcome  \n",
       "0                     0.627  3.912023        1  \n",
       "1                     0.351  3.433987        0  \n",
       "2                     0.672  3.465736        1  \n",
       "3                     0.167  3.044522        0  \n",
       "4                     2.288  3.496508        1  "
      ]
     },
     "execution_count": 224,
     "metadata": {},
     "output_type": "execute_result"
    }
   ],
   "source": [
    "df['Pregnancies'].replace('NaN', 4,inplace=True)\n",
    "df.head()\n"
   ]
  },
  {
   "cell_type": "code",
   "execution_count": 225,
   "id": "e8e306cb-cdd6-4b69-9588-e657eb2cd067",
   "metadata": {},
   "outputs": [],
   "source": [
    "x=df.iloc[:,:-1]\n",
    "y=df.iloc[:,-1]\n",
    "\n",
    "x_tr,x_te,y_tr,y_te=tt(x,y,random_state=42)\n",
    "svc=SVC(kernel='linear')\n",
    "svc.fit(x_tr,y_tr)\n",
    "y_p=svc.predict(x_te)\n",
    "ac41=acc(y_te,y_p)"
   ]
  },
  {
   "cell_type": "code",
   "execution_count": 226,
   "id": "ab8bc560-f490-4477-9587-f0b592e2cb87",
   "metadata": {},
   "outputs": [
    {
     "data": {
      "text/plain": [
       "0.734375"
      ]
     },
     "execution_count": 226,
     "metadata": {},
     "output_type": "execute_result"
    }
   ],
   "source": [
    "ac41"
   ]
  },
  {
   "cell_type": "code",
   "execution_count": 227,
   "id": "2eb4df73-dc83-4cfc-9126-2f2fac082c17",
   "metadata": {},
   "outputs": [],
   "source": [
    "r=rf(random_state=42)\n",
    "r.fit(x_tr,y_tr)\n",
    "y_p1=r.predict(x_te)\n",
    "ac42=acc(y_te,y_p1)\n"
   ]
  },
  {
   "cell_type": "code",
   "execution_count": 228,
   "id": "e42b2f23-1cfc-489e-9ec1-1c18aa5f36a5",
   "metadata": {},
   "outputs": [
    {
     "data": {
      "text/plain": [
       "0.7604166666666666"
      ]
     },
     "execution_count": 228,
     "metadata": {},
     "output_type": "execute_result"
    }
   ],
   "source": [
    "ac42"
   ]
  },
  {
   "cell_type": "markdown",
   "id": "cd2d6452-4f7a-4ecd-92ae-d401143e3a0c",
   "metadata": {},
   "source": [
    "ROOT TRANSFORMATION"
   ]
  },
  {
   "cell_type": "code",
   "execution_count": 231,
   "id": "89fae2f7-b1e4-42f0-a940-5e68df49162b",
   "metadata": {},
   "outputs": [],
   "source": [
    "ddf=pd.read_csv(r\"C:\\Users\\hanal\\Downloads\\diabetes (1).csv\")"
   ]
  },
  {
   "cell_type": "code",
   "execution_count": 229,
   "id": "054d5a82-4825-4de5-940e-dbc1736f6954",
   "metadata": {},
   "outputs": [],
   "source": [
    "def rt(sd):\n",
    "    return np.sqrt(sd)"
   ]
  },
  {
   "cell_type": "code",
   "execution_count": 232,
   "id": "6b98a6d1-b92d-4b6a-8bc9-a341f25d18b3",
   "metadata": {},
   "outputs": [
    {
     "data": {
      "text/html": [
       "<div>\n",
       "<style scoped>\n",
       "    .dataframe tbody tr th:only-of-type {\n",
       "        vertical-align: middle;\n",
       "    }\n",
       "\n",
       "    .dataframe tbody tr th {\n",
       "        vertical-align: top;\n",
       "    }\n",
       "\n",
       "    .dataframe thead th {\n",
       "        text-align: right;\n",
       "    }\n",
       "</style>\n",
       "<table border=\"1\" class=\"dataframe\">\n",
       "  <thead>\n",
       "    <tr style=\"text-align: right;\">\n",
       "      <th></th>\n",
       "      <th>Pregnancies</th>\n",
       "      <th>Glucose</th>\n",
       "      <th>BloodPressure</th>\n",
       "      <th>SkinThickness</th>\n",
       "      <th>Insulin</th>\n",
       "      <th>BMI</th>\n",
       "      <th>DiabetesPedigreeFunction</th>\n",
       "      <th>Age</th>\n",
       "      <th>Outcome</th>\n",
       "    </tr>\n",
       "  </thead>\n",
       "  <tbody>\n",
       "    <tr>\n",
       "      <th>0</th>\n",
       "      <td>6</td>\n",
       "      <td>148</td>\n",
       "      <td>72</td>\n",
       "      <td>35</td>\n",
       "      <td>0</td>\n",
       "      <td>33.6</td>\n",
       "      <td>0.627</td>\n",
       "      <td>50</td>\n",
       "      <td>1</td>\n",
       "    </tr>\n",
       "    <tr>\n",
       "      <th>1</th>\n",
       "      <td>1</td>\n",
       "      <td>85</td>\n",
       "      <td>66</td>\n",
       "      <td>29</td>\n",
       "      <td>0</td>\n",
       "      <td>26.6</td>\n",
       "      <td>0.351</td>\n",
       "      <td>31</td>\n",
       "      <td>0</td>\n",
       "    </tr>\n",
       "    <tr>\n",
       "      <th>2</th>\n",
       "      <td>8</td>\n",
       "      <td>183</td>\n",
       "      <td>64</td>\n",
       "      <td>0</td>\n",
       "      <td>0</td>\n",
       "      <td>23.3</td>\n",
       "      <td>0.672</td>\n",
       "      <td>32</td>\n",
       "      <td>1</td>\n",
       "    </tr>\n",
       "    <tr>\n",
       "      <th>3</th>\n",
       "      <td>1</td>\n",
       "      <td>89</td>\n",
       "      <td>66</td>\n",
       "      <td>23</td>\n",
       "      <td>94</td>\n",
       "      <td>28.1</td>\n",
       "      <td>0.167</td>\n",
       "      <td>21</td>\n",
       "      <td>0</td>\n",
       "    </tr>\n",
       "    <tr>\n",
       "      <th>4</th>\n",
       "      <td>0</td>\n",
       "      <td>137</td>\n",
       "      <td>40</td>\n",
       "      <td>35</td>\n",
       "      <td>168</td>\n",
       "      <td>43.1</td>\n",
       "      <td>2.288</td>\n",
       "      <td>33</td>\n",
       "      <td>1</td>\n",
       "    </tr>\n",
       "  </tbody>\n",
       "</table>\n",
       "</div>"
      ],
      "text/plain": [
       "   Pregnancies  Glucose  BloodPressure  SkinThickness  Insulin   BMI  \\\n",
       "0            6      148             72             35        0  33.6   \n",
       "1            1       85             66             29        0  26.6   \n",
       "2            8      183             64              0        0  23.3   \n",
       "3            1       89             66             23       94  28.1   \n",
       "4            0      137             40             35      168  43.1   \n",
       "\n",
       "   DiabetesPedigreeFunction  Age  Outcome  \n",
       "0                     0.627   50        1  \n",
       "1                     0.351   31        0  \n",
       "2                     0.672   32        1  \n",
       "3                     0.167   21        0  \n",
       "4                     2.288   33        1  "
      ]
     },
     "execution_count": 232,
     "metadata": {},
     "output_type": "execute_result"
    }
   ],
   "source": [
    "ddf.head()"
   ]
  },
  {
   "cell_type": "code",
   "execution_count": 233,
   "id": "d5cfc98e-f6b7-4ed3-af13-1aef6710973b",
   "metadata": {},
   "outputs": [],
   "source": [
    "r_d=rt(ddf)"
   ]
  },
  {
   "cell_type": "code",
   "execution_count": 234,
   "id": "0a5e8dbf-66f0-405e-a71b-b3550af96422",
   "metadata": {},
   "outputs": [
    {
     "data": {
      "text/html": [
       "<div>\n",
       "<style scoped>\n",
       "    .dataframe tbody tr th:only-of-type {\n",
       "        vertical-align: middle;\n",
       "    }\n",
       "\n",
       "    .dataframe tbody tr th {\n",
       "        vertical-align: top;\n",
       "    }\n",
       "\n",
       "    .dataframe thead th {\n",
       "        text-align: right;\n",
       "    }\n",
       "</style>\n",
       "<table border=\"1\" class=\"dataframe\">\n",
       "  <thead>\n",
       "    <tr style=\"text-align: right;\">\n",
       "      <th></th>\n",
       "      <th>Pregnancies</th>\n",
       "      <th>Glucose</th>\n",
       "      <th>BloodPressure</th>\n",
       "      <th>SkinThickness</th>\n",
       "      <th>Insulin</th>\n",
       "      <th>BMI</th>\n",
       "      <th>DiabetesPedigreeFunction</th>\n",
       "      <th>Age</th>\n",
       "      <th>Outcome</th>\n",
       "    </tr>\n",
       "  </thead>\n",
       "  <tbody>\n",
       "    <tr>\n",
       "      <th>0</th>\n",
       "      <td>2.449490</td>\n",
       "      <td>12.165525</td>\n",
       "      <td>8.485281</td>\n",
       "      <td>5.916080</td>\n",
       "      <td>0.000000</td>\n",
       "      <td>5.796551</td>\n",
       "      <td>0.791833</td>\n",
       "      <td>7.071068</td>\n",
       "      <td>1.0</td>\n",
       "    </tr>\n",
       "    <tr>\n",
       "      <th>1</th>\n",
       "      <td>1.000000</td>\n",
       "      <td>9.219544</td>\n",
       "      <td>8.124038</td>\n",
       "      <td>5.385165</td>\n",
       "      <td>0.000000</td>\n",
       "      <td>5.157519</td>\n",
       "      <td>0.592453</td>\n",
       "      <td>5.567764</td>\n",
       "      <td>0.0</td>\n",
       "    </tr>\n",
       "    <tr>\n",
       "      <th>2</th>\n",
       "      <td>2.828427</td>\n",
       "      <td>13.527749</td>\n",
       "      <td>8.000000</td>\n",
       "      <td>0.000000</td>\n",
       "      <td>0.000000</td>\n",
       "      <td>4.827007</td>\n",
       "      <td>0.819756</td>\n",
       "      <td>5.656854</td>\n",
       "      <td>1.0</td>\n",
       "    </tr>\n",
       "    <tr>\n",
       "      <th>3</th>\n",
       "      <td>1.000000</td>\n",
       "      <td>9.433981</td>\n",
       "      <td>8.124038</td>\n",
       "      <td>4.795832</td>\n",
       "      <td>9.695360</td>\n",
       "      <td>5.300943</td>\n",
       "      <td>0.408656</td>\n",
       "      <td>4.582576</td>\n",
       "      <td>0.0</td>\n",
       "    </tr>\n",
       "    <tr>\n",
       "      <th>4</th>\n",
       "      <td>0.000000</td>\n",
       "      <td>11.704700</td>\n",
       "      <td>6.324555</td>\n",
       "      <td>5.916080</td>\n",
       "      <td>12.961481</td>\n",
       "      <td>6.565059</td>\n",
       "      <td>1.512614</td>\n",
       "      <td>5.744563</td>\n",
       "      <td>1.0</td>\n",
       "    </tr>\n",
       "    <tr>\n",
       "      <th>...</th>\n",
       "      <td>...</td>\n",
       "      <td>...</td>\n",
       "      <td>...</td>\n",
       "      <td>...</td>\n",
       "      <td>...</td>\n",
       "      <td>...</td>\n",
       "      <td>...</td>\n",
       "      <td>...</td>\n",
       "      <td>...</td>\n",
       "    </tr>\n",
       "    <tr>\n",
       "      <th>763</th>\n",
       "      <td>3.162278</td>\n",
       "      <td>10.049876</td>\n",
       "      <td>8.717798</td>\n",
       "      <td>6.928203</td>\n",
       "      <td>13.416408</td>\n",
       "      <td>5.735852</td>\n",
       "      <td>0.413521</td>\n",
       "      <td>7.937254</td>\n",
       "      <td>0.0</td>\n",
       "    </tr>\n",
       "    <tr>\n",
       "      <th>764</th>\n",
       "      <td>1.414214</td>\n",
       "      <td>11.045361</td>\n",
       "      <td>8.366600</td>\n",
       "      <td>5.196152</td>\n",
       "      <td>0.000000</td>\n",
       "      <td>6.066300</td>\n",
       "      <td>0.583095</td>\n",
       "      <td>5.196152</td>\n",
       "      <td>0.0</td>\n",
       "    </tr>\n",
       "    <tr>\n",
       "      <th>765</th>\n",
       "      <td>2.236068</td>\n",
       "      <td>11.000000</td>\n",
       "      <td>8.485281</td>\n",
       "      <td>4.795832</td>\n",
       "      <td>10.583005</td>\n",
       "      <td>5.118594</td>\n",
       "      <td>0.494975</td>\n",
       "      <td>5.477226</td>\n",
       "      <td>0.0</td>\n",
       "    </tr>\n",
       "    <tr>\n",
       "      <th>766</th>\n",
       "      <td>1.000000</td>\n",
       "      <td>11.224972</td>\n",
       "      <td>7.745967</td>\n",
       "      <td>0.000000</td>\n",
       "      <td>0.000000</td>\n",
       "      <td>5.486347</td>\n",
       "      <td>0.590762</td>\n",
       "      <td>6.855655</td>\n",
       "      <td>1.0</td>\n",
       "    </tr>\n",
       "    <tr>\n",
       "      <th>767</th>\n",
       "      <td>1.000000</td>\n",
       "      <td>9.643651</td>\n",
       "      <td>8.366600</td>\n",
       "      <td>5.567764</td>\n",
       "      <td>0.000000</td>\n",
       "      <td>5.513620</td>\n",
       "      <td>0.561249</td>\n",
       "      <td>4.795832</td>\n",
       "      <td>0.0</td>\n",
       "    </tr>\n",
       "  </tbody>\n",
       "</table>\n",
       "<p>768 rows × 9 columns</p>\n",
       "</div>"
      ],
      "text/plain": [
       "     Pregnancies    Glucose  BloodPressure  SkinThickness    Insulin  \\\n",
       "0       2.449490  12.165525       8.485281       5.916080   0.000000   \n",
       "1       1.000000   9.219544       8.124038       5.385165   0.000000   \n",
       "2       2.828427  13.527749       8.000000       0.000000   0.000000   \n",
       "3       1.000000   9.433981       8.124038       4.795832   9.695360   \n",
       "4       0.000000  11.704700       6.324555       5.916080  12.961481   \n",
       "..           ...        ...            ...            ...        ...   \n",
       "763     3.162278  10.049876       8.717798       6.928203  13.416408   \n",
       "764     1.414214  11.045361       8.366600       5.196152   0.000000   \n",
       "765     2.236068  11.000000       8.485281       4.795832  10.583005   \n",
       "766     1.000000  11.224972       7.745967       0.000000   0.000000   \n",
       "767     1.000000   9.643651       8.366600       5.567764   0.000000   \n",
       "\n",
       "          BMI  DiabetesPedigreeFunction       Age  Outcome  \n",
       "0    5.796551                  0.791833  7.071068      1.0  \n",
       "1    5.157519                  0.592453  5.567764      0.0  \n",
       "2    4.827007                  0.819756  5.656854      1.0  \n",
       "3    5.300943                  0.408656  4.582576      0.0  \n",
       "4    6.565059                  1.512614  5.744563      1.0  \n",
       "..        ...                       ...       ...      ...  \n",
       "763  5.735852                  0.413521  7.937254      0.0  \n",
       "764  6.066300                  0.583095  5.196152      0.0  \n",
       "765  5.118594                  0.494975  5.477226      0.0  \n",
       "766  5.486347                  0.590762  6.855655      1.0  \n",
       "767  5.513620                  0.561249  4.795832      0.0  \n",
       "\n",
       "[768 rows x 9 columns]"
      ]
     },
     "execution_count": 234,
     "metadata": {},
     "output_type": "execute_result"
    }
   ],
   "source": [
    "r_d"
   ]
  },
  {
   "cell_type": "code",
   "execution_count": 237,
   "id": "c153242c-00bb-4e76-a5ba-205b60b9490e",
   "metadata": {},
   "outputs": [],
   "source": [
    "x=ddf.iloc[:,:-1]\n",
    "y=ddf.iloc[:,-1]\n",
    "\n",
    "x_tr,x_te,y_tr,y_te=tt(x,y,random_state=42)\n",
    "svc=SVC(kernel='linear')\n",
    "svc.fit(x_tr,y_tr)\n",
    "y_p=svc.predict(x_te)\n",
    "ac51=acc(y_te,y_p)"
   ]
  },
  {
   "cell_type": "code",
   "execution_count": 238,
   "id": "92d780f3-179e-476c-a983-5bd1775284ca",
   "metadata": {},
   "outputs": [
    {
     "data": {
      "text/plain": [
       "0.7291666666666666"
      ]
     },
     "execution_count": 238,
     "metadata": {},
     "output_type": "execute_result"
    }
   ],
   "source": [
    "ac51"
   ]
  },
  {
   "cell_type": "code",
   "execution_count": 241,
   "id": "e04f8176-f612-4f1c-ab95-3b0d74668a00",
   "metadata": {},
   "outputs": [],
   "source": [
    "r=rf(random_state=42)\n",
    "r.fit(x_tr,y_tr)\n",
    "y_p1=r.predict(x_te)\n",
    "ac52=acc(y_te,y_p1)\n"
   ]
  },
  {
   "cell_type": "code",
   "execution_count": 240,
   "id": "2f140354-85b5-42ed-879c-cd388d7e7e5d",
   "metadata": {},
   "outputs": [
    {
     "data": {
      "text/plain": [
       "0.734375"
      ]
     },
     "execution_count": 240,
     "metadata": {},
     "output_type": "execute_result"
    }
   ],
   "source": [
    "ac52"
   ]
  },
  {
   "cell_type": "code",
   "execution_count": 242,
   "id": "38f6aff9-1099-4011-85e1-3f472053fa4d",
   "metadata": {},
   "outputs": [],
   "source": []
  },
  {
   "cell_type": "code",
   "execution_count": 245,
   "id": "3e4eb529-7439-4a34-86ae-cf41653b3b74",
   "metadata": {},
   "outputs": [],
   "source": [
    "final={'SVC':[ac11,ac21,ac31,ac41,ac51],\n",
    "      'RandomForest':[ac12,ac22,ac32,ac42,ac52]}\n"
   ]
  },
  {
   "cell_type": "code",
   "execution_count": 247,
   "id": "46e264e2-e5eb-418e-afdd-5d6cb49c5c66",
   "metadata": {},
   "outputs": [
    {
     "data": {
      "text/html": [
       "<div>\n",
       "<style scoped>\n",
       "    .dataframe tbody tr th:only-of-type {\n",
       "        vertical-align: middle;\n",
       "    }\n",
       "\n",
       "    .dataframe tbody tr th {\n",
       "        vertical-align: top;\n",
       "    }\n",
       "\n",
       "    .dataframe thead th {\n",
       "        text-align: right;\n",
       "    }\n",
       "</style>\n",
       "<table border=\"1\" class=\"dataframe\">\n",
       "  <thead>\n",
       "    <tr style=\"text-align: right;\">\n",
       "      <th></th>\n",
       "      <th>SVC</th>\n",
       "      <th>RandomForest</th>\n",
       "    </tr>\n",
       "  </thead>\n",
       "  <tbody>\n",
       "    <tr>\n",
       "      <th>MIN_MAX</th>\n",
       "      <td>0.750000</td>\n",
       "      <td>0.739583</td>\n",
       "    </tr>\n",
       "    <tr>\n",
       "      <th>Z_Score</th>\n",
       "      <td>0.729167</td>\n",
       "      <td>0.734375</td>\n",
       "    </tr>\n",
       "    <tr>\n",
       "      <th>DecimalScaling</th>\n",
       "      <td>0.645833</td>\n",
       "      <td>0.744792</td>\n",
       "    </tr>\n",
       "    <tr>\n",
       "      <th>Log</th>\n",
       "      <td>0.734375</td>\n",
       "      <td>0.760417</td>\n",
       "    </tr>\n",
       "    <tr>\n",
       "      <th>Root</th>\n",
       "      <td>0.729167</td>\n",
       "      <td>0.734375</td>\n",
       "    </tr>\n",
       "  </tbody>\n",
       "</table>\n",
       "</div>"
      ],
      "text/plain": [
       "                     SVC  RandomForest\n",
       "MIN_MAX         0.750000      0.739583\n",
       "Z_Score         0.729167      0.734375\n",
       "DecimalScaling  0.645833      0.744792\n",
       "Log             0.734375      0.760417\n",
       "Root            0.729167      0.734375"
      ]
     },
     "execution_count": 247,
     "metadata": {},
     "output_type": "execute_result"
    }
   ],
   "source": [
    "f_df= pd.DataFrame(final,index=['MIN_MAX','Z_Score','DecimalScaling','Log','Root'])\n",
    "f_df"
   ]
  },
  {
   "cell_type": "code",
   "execution_count": 255,
   "id": "7f785c80-798e-4d4f-a58d-bfcccd321979",
   "metadata": {},
   "outputs": [
    {
     "data": {
      "image/png": "[encoded data removed]",
      "text/plain": [
       "<Figure size 640x480 with 1 Axes>"
      ]
     },
     "metadata": {},
     "output_type": "display_data"
    }
   ],
   "source": [
    "import matplotlib.pyplot as plt\n",
    "t = ['Min-Max', 'Z-Score', 'Decimal Scaling', 'Log', 'Root']\n",
    "svc_accuracy = [ac11, ac21, ac31, ac41,ac51]\n",
    "rf_accuracy = [ac12, ac22, ac32, ac42,ac52]\n",
    "bar_width = 0.35\n",
    "x = np.arange(len(transformations))\n",
    "plt.bar(x - bar_width/2, svc_accuracy, width=bar_width, label='SVC', color='blue')\n",
    "plt.bar(x + bar_width/2, rf_accuracy, width=bar_width, label='Random Forest', color='black')\n",
    "plt.xlabel('Data Transformation')\n",
    "plt.ylabel('Accuracy')\n",
    "plt.title('Model Accuracy by Transformation')\n",
    "plt.xticks(x, transformations) \n",
    "plt.ylim(0, 1) \n",
    "plt.legend(title='Model')\n",
    "plt.tight_layout()\n",
    "plt.show()"
   ]
  },
  {
   "cell_type": "markdown",
   "id": "71dd1f06-645e-4399-ac52-c5d97d912e8a",
   "metadata": {},
   "source": [
    "                                                        PR - CURVE"
   ]
  },
  {
   "cell_type": "code",
   "execution_count": 256,
   "id": "828b52bd-df7d-4cad-9cb0-0132121b295e",
   "metadata": {},
   "outputs": [],
   "source": [
    "from sklearn.linear_model import LogisticRegression\n",
    "from sklearn.metrics import precision_recall_curve as pr\n",
    "from sklearn.metrics import  auc"
   ]
  },
  {
   "cell_type": "code",
   "execution_count": 259,
   "id": "31094644-8a84-45f0-9610-509f4a590422",
   "metadata": {},
   "outputs": [
    {
     "name": "stderr",
     "output_type": "stream",
     "text": [
      "C:\\Users\\hanal\\anaconda3\\envs\\FDS\\Lib\\site-packages\\sklearn\\linear_model\\_logistic.py:469: ConvergenceWarning: lbfgs failed to converge (status=1):\n",
      "STOP: TOTAL NO. of ITERATIONS REACHED LIMIT.\n",
      "\n",
      "Increase the number of iterations (max_iter) or scale the data as shown in:\n",
      "    https://scikit-learn.org/stable/modules/preprocessing.html\n",
      "Please also refer to the documentation for alternative solver options:\n",
      "    https://scikit-learn.org/stable/modules/linear_model.html#logistic-regression\n",
      "  n_iter_i = _check_optimize_result(\n"
     ]
    },
    {
     "data": {
      "image/png": "[encoded data removed]",
      "text/plain": [
       "<Figure size 640x480 with 1 Axes>"
      ]
     },
     "metadata": {},
     "output_type": "display_data"
    }
   ],
   "source": [
    "x=ddf.iloc[:,:-1]\n",
    "y=ddf.iloc[:,-1]\n",
    "\n",
    "\n",
    "x_train, x_test, y_train, y_test = tt(x, y, test_size=0.2, random_state=42)\n",
    "m = LogisticRegression()\n",
    "m.fit(x_train, y_train)\n",
    "y_p = m.predict_proba(x_test)[:, 1]\n",
    "\n",
    "p, r, thr= pr(y_test, y_p)\n",
    "\n",
    "auc_sc = auc(r, p)\n",
    "\n",
    "plt.plot(r, p, label=f'Precision-Recall Curve (AUC = {auc_sc:.2f})')\n",
    "plt.xlabel('Recall')\n",
    "plt.ylabel('Precision')\n",
    "\n",
    "plt.legend()\n",
    "plt.show()"
   ]
  },
  {
   "cell_type": "code",
   "execution_count": null,
   "id": "3423ea2a-09e8-4d54-99c4-cc4d5b7ec860",
   "metadata": {},
   "outputs": [],
   "source": []
  },
  {
   "cell_type": "code",
   "execution_count": null,
   "id": "645ed2b4-a89b-4df0-bc07-6e7f0f02b258",
   "metadata": {},
   "outputs": [],
   "source": []
  }
 ],
 "metadata": {
  "kernelspec": {
   "display_name": "Python 3 (ipykernel)",
   "language": "python",
   "name": "python3"
  },
  "language_info": {
   "codemirror_mode": {
    "name": "ipython",
    "version": 3
   },
   "file_extension": ".py",
   "mimetype": "text/x-python",
   "name": "python",
   "nbconvert_exporter": "python",
   "pygments_lexer": "ipython3",
   "version": "3.12.4"
  }
 },
 "nbformat": 4,
 "nbformat_minor": 5
}
